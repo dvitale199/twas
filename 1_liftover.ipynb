{
 "cells": [
  {
   "cell_type": "code",
   "execution_count": null,
   "metadata": {},
   "outputs": [],
   "source": [
    "import subprocess\n",
    "import sys\n",
    "import os\n",
    "import shutil\n",
    "import pandas as pd"
   ]
  },
  {
   "cell_type": "code",
   "execution_count": null,
   "metadata": {},
   "outputs": [],
   "source": [
    "def shell_do(command, log=False, return_log=False):\n",
    "    print(f'Executing: {(\" \").join(command.split())}', file=sys.stderr)\n",
    "\n",
    "    res=subprocess.run(command.split(), stdout=subprocess.PIPE)\n",
    "\n",
    "    if log:\n",
    "        print(res.stdout.decode('utf-8'))\n",
    "    if return_log:\n",
    "        return(res.stdout.decode('utf-8'))"
   ]
  },
  {
   "cell_type": "code",
   "execution_count": null,
   "metadata": {},
   "outputs": [],
   "source": [
    "# set paths\n",
    "basedir = '/data/songy4/TWAS'\n",
    "datadir = f'{basedir}/data_folder'\n",
    "fusiondir = f'/data/vitaled2/twas/fusion_twas'\n",
    "geno_path = f'{datadir}/id_comparison/qc_genotypes_twas'\n",
    "gene_list_path = f'{datadir}/final_folder/gene_list.txt'\n",
    "pheno_path = f'{datadir}/final_folder/expression_matrix_final.txt'\n",
    "coord_path = f'{datadir}/final_folder/twas_coordinate.txt'"
   ]
  },
  {
   "cell_type": "markdown",
   "metadata": {},
   "source": [
    "# Liftover genotype from hg38 to hg19 to match 1kg ref"
   ]
  },
  {
   "cell_type": "code",
   "execution_count": null,
   "metadata": {},
   "outputs": [],
   "source": [
    "# get chrN:start-end positions for liftover of genotype from hg38 to hg19 to match 1kG LD ref\n",
    "lift_outname = f'{basedir}/geno_hg38_positions.bed'\n",
    "bim = pd.read_csv(f'{geno_path}.bim', sep='\\t', header=None)\n",
    "bim.columns = ['chr', 'rsid', 'kb', 'pos', 'a1', 'a2']\n",
    "bim['chr'] = 'chr' + bim['chr'].astype('str')\n",
    "bim['end'] = bim['pos'] + 1\n",
    "lift_out = bim[['chr', 'pos', 'end', 'rsid' ]].copy()\n",
    "lift_out.to_csv(lift_outname, sep='\\t', header=False, index=False)"
   ]
  },
  {
   "cell_type": "code",
   "execution_count": null,
   "metadata": {},
   "outputs": [],
   "source": [
    "# pull liftOver from UCSC\n",
    "# !wget http://hgdownload.soe.ucsc.edu/admin/exe/linux.x86_64/liftOver -P /data/vitaled2/twas/liftover/\n",
    "# !wget --timestamping 'ftp://hgdownload.cse.ucsc.edu/goldenPath/hg38/liftOver/hg38ToHg19.over.chain.gz' -O /data/vitaled2/twas/liftover/hg38ToHg19.over.chain.gz\n",
    "# !chmod +x /data/vitaled2/twas/liftover/liftOver"
   ]
  },
  {
   "cell_type": "code",
   "execution_count": null,
   "metadata": {},
   "outputs": [],
   "source": [
    "# create command for liftover\n",
    "liftOver = f'./data/vitaled2/twas/liftover/liftOver'\n",
    "chainfile = f'/data/vitaled2/twas/liftover/hg38ToHg19.over.chain.gz'\n",
    "liftover_output = f'{basedir}/geno_hg19_positions.bed'\n",
    "unlifted = f'{basedir}/unlifted.bed'\n",
    "\n",
    "liftover_cmd = f'\\\n",
    "{liftOver} {lift_outname} {chainfile} {liftover_output} {unlifted}'\n",
    "\n",
    "shell_do(liftover_cmd)\n",
    "liftover_cmd"
   ]
  },
  {
   "cell_type": "code",
   "execution_count": null,
   "metadata": {},
   "outputs": [],
   "source": [
    "# create map update file\n",
    "lifted = pd.read_csv(liftover_output, sep='\\t', header=None, names=['chr', 'pos', 'end', 'rsid' ])\n",
    "\n",
    "bim = pd.read_csv(f'{geno_path}.bim', sep='\\t', header=None, names=['chr', 'rsid', 'kb', 'pos', 'a1', 'a2'])\n",
    "bim_lift_merge = bim.merge(lifted, how='right', on='rsid')\n",
    "lifted_bim = bim_lift_merge[['chr_x', 'rsid', 'kb', 'pos_y', 'a1', 'a2']].copy()\n",
    "lifted_bim.columns = ['chr', 'rsid', 'kb', 'pos', 'a1', 'a2']"
   ]
  },
  {
   "cell_type": "code",
   "execution_count": null,
   "metadata": {},
   "outputs": [],
   "source": [
    "# use only lifted snps\n",
    "lifted_bim['rsid'].to_csv(f'{geno_path}_hg19_lifted.snplist', sep='\\t', header=False, index=False)\n",
    "\n",
    "plink_extract_cmd = f'\\\n",
    "plink --bfile {geno_path}\\\n",
    " --extract {geno_path}_hg19_lifted.snplist\\\n",
    " --make-bed\\\n",
    " --out {geno_path}_hg19_lifted'\n",
    "\n",
    "shell_do(plink_extract_cmd)\n"
   ]
  },
  {
   "cell_type": "code",
   "execution_count": null,
   "metadata": {},
   "outputs": [],
   "source": [
    "# move bim with old positions to new file\n",
    "!mv {geno_path}_hg19_lifted.bim {geno_path}_hg19_lifted_old_positions.bim"
   ]
  },
  {
   "cell_type": "code",
   "execution_count": null,
   "metadata": {},
   "outputs": [],
   "source": [
    "# write lifted bim to _hg19_lifted genotype name\n",
    "lifted_bim.to_csv(f'{geno_path}_hg19_lifted.bim', sep='\\t', header=False, index=False)"
   ]
  }
 ],
 "metadata": {
  "kernelspec": {
   "display_name": "Python 3",
   "language": "python",
   "name": "python3"
  },
  "language_info": {
   "codemirror_mode": {
    "name": "ipython",
    "version": 3
   },
   "file_extension": ".py",
   "mimetype": "text/x-python",
   "name": "python",
   "nbconvert_exporter": "python",
   "pygments_lexer": "ipython3",
   "version": "3.6.7"
  }
 },
 "nbformat": 4,
 "nbformat_minor": 4
}
