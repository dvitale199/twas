{
 "cells": [
  {
   "cell_type": "code",
   "execution_count": 3,
   "metadata": {},
   "outputs": [
    {
     "name": "stdout",
     "output_type": "stream",
     "text": [
      "fatal: destination path 'fusion_twas' already exists and is not an empty directory.\n"
     ]
    }
   ],
   "source": [
    "#clone fusion_twas library before running this\n",
    "!git clone https://github.com/gusevlab/fusion_twas.git"
   ]
  },
  {
   "cell_type": "code",
   "execution_count": 3,
   "metadata": {},
   "outputs": [
    {
     "name": "stdout",
     "output_type": "stream",
     "text": [
      "cn4245\n"
     ]
    }
   ],
   "source": [
    "!hostname"
   ]
  },
  {
   "cell_type": "code",
   "execution_count": 1,
   "metadata": {},
   "outputs": [],
   "source": [
    "import subprocess\n",
    "import sys\n",
    "import os\n",
    "import shutil\n",
    "import pandas as pd"
   ]
  },
  {
   "cell_type": "code",
   "execution_count": 2,
   "metadata": {},
   "outputs": [],
   "source": [
    "def shell_do(command, log=False, return_log=False):\n",
    "    print(f'Executing: {(\" \").join(command.split())}', file=sys.stderr)\n",
    "\n",
    "    res=subprocess.run(command.split(), stdout=subprocess.PIPE)\n",
    "\n",
    "    if log:\n",
    "        print(res.stdout.decode('utf-8'))\n",
    "    if return_log:\n",
    "        return(res.stdout.decode('utf-8'))"
   ]
  },
  {
   "cell_type": "code",
   "execution_count": 3,
   "metadata": {},
   "outputs": [],
   "source": [
    "#set paths\n",
    "basedir = '/data/songy4/twas'\n",
    "datadir = f'{basedir}/data_folder'\n",
    "fusiondir = f'{basedir}/fusion_twas'\n",
    "geno_path = f'{datadir}/qc_genotypes_twas'\n",
    "gene_list_path = f'{datadir}/gene_list.txt'\n",
    "pheno_path = f'{datadir}/expression_matrix_final.txt'\n",
    "coord_path = f'{datadir}/twas_coordinate.txt'\n",
    "covar_path = f'{datadir}/covariates.txt'\n",
    "gcta = f'{fusiondir}/gcta_nr_robust'\n",
    "gemma = f'gemma-0.98.3-linux-static'\n",
    "fusion_ldref_basename = f'{fusiondir}/LDREF/1000G.EUR'\n",
    "fusion_compute_weights_script = f'{fusiondir}/FUSION.compute_weights.R'\n",
    "\n",
    "!mkdir --parents output/weights\n",
    "!mkdir --parents output/tmp\n"
   ]
  },
  {
   "cell_type": "markdown",
   "metadata": {},
   "source": [
    "# Pipeline for TWAS run"
   ]
  },
  {
   "cell_type": "code",
   "execution_count": 4,
   "metadata": {},
   "outputs": [],
   "source": [
    "# get gene list\n",
    "##test with couple genes first before running all gene_list\n",
    "gene_list_df = pd.read_csv(gene_list_path, sep='\\t')\n",
    "gene_list = list(gene_list_df.ID)\n",
    "# gene_list = ['ENSG00000186092', 'ENSG00000187634', 'ENSG00000188976'] # for testing\n",
    "# gene_list = ['ENSG00000186092']\n",
    "pheno = pd.read_csv(pheno_path, sep='\\t')\n",
    "coords = pd.read_csv(coord_path, sep='\\t')\n",
    "covars = pd.read_csv(covar_path, sep='\\t')"
   ]
  },
  {
   "cell_type": "code",
   "execution_count": 5,
   "metadata": {},
   "outputs": [],
   "source": [
    "# now put together pipeline\n",
    "\n",
    "compweights_swarmfile = f'{basedir}/compute_weights.swarm'\n",
    "\n",
    "with open(compweights_swarmfile, 'w') as f:\n",
    "    \n",
    "    for gene in gene_list:\n",
    "        OUT = f'output/tmp/{gene}'\n",
    "        FINAL_OUT = f'output/weights/{gene}'\n",
    "        #get chr start stop\n",
    "        _chr = coords.loc[coords.ID == gene, 'X.Chr'].item()\n",
    "        _start = coords.loc[coords.ID == gene, 'start'].item()-0.5e6\n",
    "        _stop = coords.loc[coords.ID == gene, 'end'].item()+0.5e6\n",
    "\n",
    "        if _start < 0:\n",
    "            _start = 0\n",
    "        \n",
    "        _start = int(_start)\n",
    "        _stop = int(_stop)\n",
    "        \n",
    "#         _temp_name = f'{gene}_temp'\n",
    "#         _gene_temp = f'{tempdir}/{_temp_name}'\n",
    "        \n",
    "        # pheno per gene\n",
    "#         _phenoname = f'{_gene_temp}.pheno'\n",
    "        \n",
    "        # write pheno file per gene\n",
    "        pheno[['FID','IID', gene]].to_csv(f'{OUT}.pheno', sep='\\t', header=False, index=False)\n",
    "#         pheno[['FID','IID', gene]].to_csv(_phenoname, sep='\\t', header=False, index=False)\n",
    "        \n",
    "        plink_cmd = f'\\\n",
    "plink --bfile {geno_path}_hg19_lifted \\\n",
    "--pheno {OUT}.pheno \\\n",
    "--keep {OUT}.pheno \\\n",
    "--chr {_chr} \\\n",
    "--from-bp {_start} \\\n",
    "--to-bp {_stop} \\\n",
    "--extract {fusion_ldref_basename}.{_chr}.bim \\\n",
    "--make-bed \\\n",
    "--out {OUT}'  \n",
    "\n",
    "#        shell_do(plink_cmd, log=True, return_log=True)\n",
    "\n",
    "        fusion_cmd = f'\\\n",
    "Rscript {fusion_compute_weights_script} \\\n",
    "--bfile {OUT} \\\n",
    "--tmp {OUT}.tmp \\\n",
    "--out {FINAL_OUT} \\\n",
    "--PATH_gemma {gemma} \\\n",
    "--PATH_plink plink \\\n",
    "--PATH_gcta {gcta} \\\n",
    "--covar {covar_path} \\\n",
    "--verbose 2 \\\n",
    "--save_hsq \\\n",
    "--models top1,lasso,enet'\n",
    "##include \"blup,bslmm\" to the --models in fusion_cmd for future     \n",
    "# \n",
    "#        shell_do(fusion_cmd, log=True, return_log=True)\n",
    "\n",
    "        f.write(f'{plink_cmd} && {fusion_cmd}\\n')\n",
    "    f.close()"
   ]
  },
  {
   "cell_type": "code",
   "execution_count": 6,
   "metadata": {},
   "outputs": [
    {
     "name": "stdout",
     "output_type": "stream",
     "text": [
      "swarm -f /data/songy4/twas/compute_weights.swarm -g 16 -t 16 --time=10:00:00 --logdir swarm --gres=lscratch:20 --module plink,GEMMA/0.96 --partition=norm\n",
      "8041450\n"
     ]
    }
   ],
   "source": [
    "# run swarm\n",
    "swarm_cmd = f'swarm -f {compweights_swarmfile} -g 16 -t 16 --time=10:00:00 --logdir swarm --gres=lscratch:20 --module plink,GEMMA/0.96 --partition=norm'\n",
    "# shell_do(swarm_cmd)\n",
    "print(swarm_cmd)\n",
    "!{swarm_cmd}\n",
    "##check swarm jobs state in hpc.nih.gov/dashboard/\n",
    "##check .e, .o, and .log files of swarm jobs in swarm folder (same name as swarm jobid in hpc dashboard)"
   ]
  },
  {
   "cell_type": "code",
   "execution_count": null,
   "metadata": {},
   "outputs": [],
   "source": [
    "#check number of weights in output/weights folder \n",
    "###run this in terminal\n",
    "\n",
    "#go to the weights folder\n",
    "!cd /data/songy4/twas/output/weights\n",
    "#check how many files are in total\n",
    "! ls | wc -l\n",
    "#there are 27864\n",
    "#check how many .RDat file is in weights folder\n",
    "!ls -lR ./*.RDat | wc -l\n",
    "#there are 9723 RDat files"
   ]
  },
  {
   "cell_type": "markdown",
   "metadata": {},
   "source": [
    "TWAS"
   ]
  },
  {
   "cell_type": "code",
   "execution_count": 12,
   "metadata": {},
   "outputs": [
    {
     "data": {
      "text/html": [
       "<div>\n",
       "<style scoped>\n",
       "    .dataframe tbody tr th:only-of-type {\n",
       "        vertical-align: middle;\n",
       "    }\n",
       "\n",
       "    .dataframe tbody tr th {\n",
       "        vertical-align: top;\n",
       "    }\n",
       "\n",
       "    .dataframe thead th {\n",
       "        text-align: right;\n",
       "    }\n",
       "</style>\n",
       "<table border=\"1\" class=\"dataframe\">\n",
       "  <thead>\n",
       "    <tr style=\"text-align: right;\">\n",
       "      <th></th>\n",
       "      <th>X.Chr</th>\n",
       "      <th>start</th>\n",
       "      <th>end</th>\n",
       "      <th>ID</th>\n",
       "    </tr>\n",
       "  </thead>\n",
       "  <tbody>\n",
       "    <tr>\n",
       "      <th>0</th>\n",
       "      <td>1</td>\n",
       "      <td>69091</td>\n",
       "      <td>70008</td>\n",
       "      <td>ENSG00000186092</td>\n",
       "    </tr>\n",
       "    <tr>\n",
       "      <th>1</th>\n",
       "      <td>1</td>\n",
       "      <td>860260</td>\n",
       "      <td>879955</td>\n",
       "      <td>ENSG00000187634</td>\n",
       "    </tr>\n",
       "    <tr>\n",
       "      <th>2</th>\n",
       "      <td>1</td>\n",
       "      <td>879584</td>\n",
       "      <td>894689</td>\n",
       "      <td>ENSG00000188976</td>\n",
       "    </tr>\n",
       "    <tr>\n",
       "      <th>3</th>\n",
       "      <td>1</td>\n",
       "      <td>895967</td>\n",
       "      <td>901095</td>\n",
       "      <td>ENSG00000187961</td>\n",
       "    </tr>\n",
       "    <tr>\n",
       "      <th>4</th>\n",
       "      <td>1</td>\n",
       "      <td>901877</td>\n",
       "      <td>911245</td>\n",
       "      <td>ENSG00000187583</td>\n",
       "    </tr>\n",
       "    <tr>\n",
       "      <th>...</th>\n",
       "      <td>...</td>\n",
       "      <td>...</td>\n",
       "      <td>...</td>\n",
       "      <td>...</td>\n",
       "    </tr>\n",
       "    <tr>\n",
       "      <th>18236</th>\n",
       "      <td>21</td>\n",
       "      <td>47720095</td>\n",
       "      <td>47743789</td>\n",
       "      <td>ENSG00000160298</td>\n",
       "    </tr>\n",
       "    <tr>\n",
       "      <th>18237</th>\n",
       "      <td>21</td>\n",
       "      <td>47744036</td>\n",
       "      <td>47865682</td>\n",
       "      <td>ENSG00000160299</td>\n",
       "    </tr>\n",
       "    <tr>\n",
       "      <th>18238</th>\n",
       "      <td>21</td>\n",
       "      <td>47878812</td>\n",
       "      <td>47989926</td>\n",
       "      <td>ENSG00000160305</td>\n",
       "    </tr>\n",
       "    <tr>\n",
       "      <th>18239</th>\n",
       "      <td>21</td>\n",
       "      <td>48018875</td>\n",
       "      <td>48025121</td>\n",
       "      <td>ENSG00000160307</td>\n",
       "    </tr>\n",
       "    <tr>\n",
       "      <th>18240</th>\n",
       "      <td>21</td>\n",
       "      <td>48055079</td>\n",
       "      <td>48085036</td>\n",
       "      <td>ENSG00000160310</td>\n",
       "    </tr>\n",
       "  </tbody>\n",
       "</table>\n",
       "<p>18241 rows × 4 columns</p>\n",
       "</div>"
      ],
      "text/plain": [
       "       X.Chr     start       end               ID\n",
       "0          1     69091     70008  ENSG00000186092\n",
       "1          1    860260    879955  ENSG00000187634\n",
       "2          1    879584    894689  ENSG00000188976\n",
       "3          1    895967    901095  ENSG00000187961\n",
       "4          1    901877    911245  ENSG00000187583\n",
       "...      ...       ...       ...              ...\n",
       "18236     21  47720095  47743789  ENSG00000160298\n",
       "18237     21  47744036  47865682  ENSG00000160299\n",
       "18238     21  47878812  47989926  ENSG00000160305\n",
       "18239     21  48018875  48025121  ENSG00000160307\n",
       "18240     21  48055079  48085036  ENSG00000160310\n",
       "\n",
       "[18241 rows x 4 columns]"
      ]
     },
     "execution_count": 12,
     "metadata": {},
     "output_type": "execute_result"
    }
   ],
   "source": [
    "#open gene_chr_start_stop.tab -- this has chr and position info\n",
    "chr_pos_df = pd.read_csv(coord_path, sep='\\t')\n",
    "chr_pos_df"
   ]
  },
  {
   "cell_type": "code",
   "execution_count": 13,
   "metadata": {},
   "outputs": [
    {
     "data": {
      "text/html": [
       "<div>\n",
       "<style scoped>\n",
       "    .dataframe tbody tr th:only-of-type {\n",
       "        vertical-align: middle;\n",
       "    }\n",
       "\n",
       "    .dataframe tbody tr th {\n",
       "        vertical-align: top;\n",
       "    }\n",
       "\n",
       "    .dataframe thead th {\n",
       "        text-align: right;\n",
       "    }\n",
       "</style>\n",
       "<table border=\"1\" class=\"dataframe\">\n",
       "  <thead>\n",
       "    <tr style=\"text-align: right;\">\n",
       "      <th></th>\n",
       "      <th>ID</th>\n",
       "      <th>X.Chr</th>\n",
       "      <th>start</th>\n",
       "      <th>end</th>\n",
       "    </tr>\n",
       "  </thead>\n",
       "  <tbody>\n",
       "    <tr>\n",
       "      <th>0</th>\n",
       "      <td>ENSG00000186092</td>\n",
       "      <td>1</td>\n",
       "      <td>69091</td>\n",
       "      <td>70008</td>\n",
       "    </tr>\n",
       "    <tr>\n",
       "      <th>1</th>\n",
       "      <td>ENSG00000187634</td>\n",
       "      <td>1</td>\n",
       "      <td>860260</td>\n",
       "      <td>879955</td>\n",
       "    </tr>\n",
       "    <tr>\n",
       "      <th>2</th>\n",
       "      <td>ENSG00000188976</td>\n",
       "      <td>1</td>\n",
       "      <td>879584</td>\n",
       "      <td>894689</td>\n",
       "    </tr>\n",
       "    <tr>\n",
       "      <th>3</th>\n",
       "      <td>ENSG00000187961</td>\n",
       "      <td>1</td>\n",
       "      <td>895967</td>\n",
       "      <td>901095</td>\n",
       "    </tr>\n",
       "    <tr>\n",
       "      <th>4</th>\n",
       "      <td>ENSG00000187583</td>\n",
       "      <td>1</td>\n",
       "      <td>901877</td>\n",
       "      <td>911245</td>\n",
       "    </tr>\n",
       "  </tbody>\n",
       "</table>\n",
       "</div>"
      ],
      "text/plain": [
       "                ID  X.Chr   start     end\n",
       "0  ENSG00000186092      1   69091   70008\n",
       "1  ENSG00000187634      1  860260  879955\n",
       "2  ENSG00000188976      1  879584  894689\n",
       "3  ENSG00000187961      1  895967  901095\n",
       "4  ENSG00000187583      1  901877  911245"
      ]
     },
     "execution_count": 13,
     "metadata": {},
     "output_type": "execute_result"
    }
   ],
   "source": [
    "#rearrange the columns \n",
    "chr_pos_df = chr_pos_df[['ID', 'X.Chr','start','end']]\n",
    "chr_pos_df.head()"
   ]
  },
  {
   "cell_type": "code",
   "execution_count": 14,
   "metadata": {},
   "outputs": [
    {
     "data": {
      "text/html": [
       "<div>\n",
       "<style scoped>\n",
       "    .dataframe tbody tr th:only-of-type {\n",
       "        vertical-align: middle;\n",
       "    }\n",
       "\n",
       "    .dataframe tbody tr th {\n",
       "        vertical-align: top;\n",
       "    }\n",
       "\n",
       "    .dataframe thead th {\n",
       "        text-align: right;\n",
       "    }\n",
       "</style>\n",
       "<table border=\"1\" class=\"dataframe\">\n",
       "  <thead>\n",
       "    <tr style=\"text-align: right;\">\n",
       "      <th></th>\n",
       "      <th>ID</th>\n",
       "      <th>CHR</th>\n",
       "      <th>P0</th>\n",
       "      <th>P1</th>\n",
       "    </tr>\n",
       "  </thead>\n",
       "  <tbody>\n",
       "    <tr>\n",
       "      <th>0</th>\n",
       "      <td>ENSG00000186092</td>\n",
       "      <td>1</td>\n",
       "      <td>69091</td>\n",
       "      <td>70008</td>\n",
       "    </tr>\n",
       "    <tr>\n",
       "      <th>1</th>\n",
       "      <td>ENSG00000187634</td>\n",
       "      <td>1</td>\n",
       "      <td>860260</td>\n",
       "      <td>879955</td>\n",
       "    </tr>\n",
       "    <tr>\n",
       "      <th>2</th>\n",
       "      <td>ENSG00000188976</td>\n",
       "      <td>1</td>\n",
       "      <td>879584</td>\n",
       "      <td>894689</td>\n",
       "    </tr>\n",
       "    <tr>\n",
       "      <th>3</th>\n",
       "      <td>ENSG00000187961</td>\n",
       "      <td>1</td>\n",
       "      <td>895967</td>\n",
       "      <td>901095</td>\n",
       "    </tr>\n",
       "    <tr>\n",
       "      <th>4</th>\n",
       "      <td>ENSG00000187583</td>\n",
       "      <td>1</td>\n",
       "      <td>901877</td>\n",
       "      <td>911245</td>\n",
       "    </tr>\n",
       "    <tr>\n",
       "      <th>...</th>\n",
       "      <td>...</td>\n",
       "      <td>...</td>\n",
       "      <td>...</td>\n",
       "      <td>...</td>\n",
       "    </tr>\n",
       "    <tr>\n",
       "      <th>18236</th>\n",
       "      <td>ENSG00000160298</td>\n",
       "      <td>21</td>\n",
       "      <td>47720095</td>\n",
       "      <td>47743789</td>\n",
       "    </tr>\n",
       "    <tr>\n",
       "      <th>18237</th>\n",
       "      <td>ENSG00000160299</td>\n",
       "      <td>21</td>\n",
       "      <td>47744036</td>\n",
       "      <td>47865682</td>\n",
       "    </tr>\n",
       "    <tr>\n",
       "      <th>18238</th>\n",
       "      <td>ENSG00000160305</td>\n",
       "      <td>21</td>\n",
       "      <td>47878812</td>\n",
       "      <td>47989926</td>\n",
       "    </tr>\n",
       "    <tr>\n",
       "      <th>18239</th>\n",
       "      <td>ENSG00000160307</td>\n",
       "      <td>21</td>\n",
       "      <td>48018875</td>\n",
       "      <td>48025121</td>\n",
       "    </tr>\n",
       "    <tr>\n",
       "      <th>18240</th>\n",
       "      <td>ENSG00000160310</td>\n",
       "      <td>21</td>\n",
       "      <td>48055079</td>\n",
       "      <td>48085036</td>\n",
       "    </tr>\n",
       "  </tbody>\n",
       "</table>\n",
       "<p>18241 rows × 4 columns</p>\n",
       "</div>"
      ],
      "text/plain": [
       "                    ID  CHR        P0        P1\n",
       "0      ENSG00000186092    1     69091     70008\n",
       "1      ENSG00000187634    1    860260    879955\n",
       "2      ENSG00000188976    1    879584    894689\n",
       "3      ENSG00000187961    1    895967    901095\n",
       "4      ENSG00000187583    1    901877    911245\n",
       "...                ...  ...       ...       ...\n",
       "18236  ENSG00000160298   21  47720095  47743789\n",
       "18237  ENSG00000160299   21  47744036  47865682\n",
       "18238  ENSG00000160305   21  47878812  47989926\n",
       "18239  ENSG00000160307   21  48018875  48025121\n",
       "18240  ENSG00000160310   21  48055079  48085036\n",
       "\n",
       "[18241 rows x 4 columns]"
      ]
     },
     "execution_count": 14,
     "metadata": {},
     "output_type": "execute_result"
    }
   ],
   "source": [
    "#change column names in chr_pos_df\n",
    "chr_pos_df.columns = ['ID', 'CHR', 'P0', 'P1']\n",
    "chr_pos_df"
   ]
  },
  {
   "cell_type": "code",
   "execution_count": 7,
   "metadata": {},
   "outputs": [],
   "source": [
    "#make gene_path.csv\n",
    "! ls -l ./output/weights | grep -E 'ENSG|.RDat' | awk '{print $9\", ./weights/\"$9}' | sed 's/.wgt.RDat,/,/g' > ./data_folder/gene_path.csv\n",
    "\n",
    "## list files in weights folder, search lines with same pattern as 'ENSG'\n",
    "## scan file line by line, splits each input line\n",
    "## substitute .wgt.RDat, with , in all occurrences (/g means global replacement)"
   ]
  },
  {
   "cell_type": "code",
   "execution_count": 8,
   "metadata": {},
   "outputs": [
    {
     "data": {
      "text/plain": [
       "<bound method NDFrame.head of                         ID                                  WGT\n",
       "0      ENSG00000000419.hsq        ./weights/ENSG00000000419.hsq\n",
       "1      ENSG00000000457.hsq        ./weights/ENSG00000000457.hsq\n",
       "2          ENSG00000000457   ./weights/ENSG00000000457.wgt.RDat\n",
       "3      ENSG00000000460.hsq        ./weights/ENSG00000000460.hsq\n",
       "4          ENSG00000000460   ./weights/ENSG00000000460.wgt.RDat\n",
       "...                    ...                                  ...\n",
       "27859  ENSG00000273213.hsq        ./weights/ENSG00000273213.hsq\n",
       "27860  ENSG00000273217.hsq        ./weights/ENSG00000273217.hsq\n",
       "27861  ENSG00000273238.hsq        ./weights/ENSG00000273238.hsq\n",
       "27862  ENSG00000273274.hsq        ./weights/ENSG00000273274.hsq\n",
       "27863  ENSG00000273291.hsq        ./weights/ENSG00000273291.hsq\n",
       "\n",
       "[27864 rows x 2 columns]>"
      ]
     },
     "execution_count": 8,
     "metadata": {},
     "output_type": "execute_result"
    }
   ],
   "source": [
    "#import gene_path.csv \n",
    "path = pd.read_csv(f\"{datadir}/gene_path.csv\", names=['ID', 'WGT'])\n",
    "path.head"
   ]
  },
  {
   "cell_type": "code",
   "execution_count": 9,
   "metadata": {},
   "outputs": [
    {
     "data": {
      "text/plain": [
       "<bound method NDFrame.head of                     ID                                  WGT\n",
       "2      ENSG00000000457   ./weights/ENSG00000000457.wgt.RDat\n",
       "4      ENSG00000000460   ./weights/ENSG00000000460.wgt.RDat\n",
       "7      ENSG00000000971   ./weights/ENSG00000000971.wgt.RDat\n",
       "9      ENSG00000001036   ./weights/ENSG00000001036.wgt.RDat\n",
       "11     ENSG00000001084   ./weights/ENSG00000001084.wgt.RDat\n",
       "...                ...                                  ...\n",
       "27838  ENSG00000272514   ./weights/ENSG00000272514.wgt.RDat\n",
       "27842  ENSG00000272636   ./weights/ENSG00000272636.wgt.RDat\n",
       "27848  ENSG00000273045   ./weights/ENSG00000273045.wgt.RDat\n",
       "27855  ENSG00000273155   ./weights/ENSG00000273155.wgt.RDat\n",
       "27858  ENSG00000273173   ./weights/ENSG00000273173.wgt.RDat\n",
       "\n",
       "[9723 rows x 2 columns]>"
      ]
     },
     "execution_count": 9,
     "metadata": {},
     "output_type": "execute_result"
    }
   ],
   "source": [
    "#remove .hsq rows\n",
    "path = path[~path.WGT.str.contains(\".hsq\")]\n",
    "path.head"
   ]
  },
  {
   "cell_type": "code",
   "execution_count": 10,
   "metadata": {},
   "outputs": [],
   "source": [
    "#save path as csv -- run only once for download\n",
    "path.to_csv(r'./data_folder/gene_path_1.csv' ,index=False)"
   ]
  },
  {
   "cell_type": "code",
   "execution_count": 15,
   "metadata": {},
   "outputs": [
    {
     "data": {
      "text/plain": [
       "<bound method NDFrame.head of                    ID  CHR        P0        P1  \\\n",
       "0     ENSG00000188976    1    879584    894689   \n",
       "1     ENSG00000187961    1    895967    901095   \n",
       "2     ENSG00000187583    1    901877    911245   \n",
       "3     ENSG00000188290    1    934342    935552   \n",
       "4     ENSG00000187608    1    948803    949920   \n",
       "...               ...  ...       ...       ...   \n",
       "9718  ENSG00000160298   21  47720095  47743789   \n",
       "9719  ENSG00000160299   21  47744036  47865682   \n",
       "9720  ENSG00000160305   21  47878812  47989926   \n",
       "9721  ENSG00000160307   21  48018875  48025121   \n",
       "9722  ENSG00000160310   21  48055079  48085036   \n",
       "\n",
       "                                      WGT  \n",
       "0      ./weights/ENSG00000188976.wgt.RDat  \n",
       "1      ./weights/ENSG00000187961.wgt.RDat  \n",
       "2      ./weights/ENSG00000187583.wgt.RDat  \n",
       "3      ./weights/ENSG00000188290.wgt.RDat  \n",
       "4      ./weights/ENSG00000187608.wgt.RDat  \n",
       "...                                   ...  \n",
       "9718   ./weights/ENSG00000160298.wgt.RDat  \n",
       "9719   ./weights/ENSG00000160299.wgt.RDat  \n",
       "9720   ./weights/ENSG00000160305.wgt.RDat  \n",
       "9721   ./weights/ENSG00000160307.wgt.RDat  \n",
       "9722   ./weights/ENSG00000160310.wgt.RDat  \n",
       "\n",
       "[9723 rows x 5 columns]>"
      ]
     },
     "execution_count": 15,
     "metadata": {},
     "output_type": "execute_result"
    }
   ],
   "source": [
    "#merge chr_pos_df and path\n",
    "merged = chr_pos_df.merge(path, how='inner', on='ID')\n",
    "merged.head"
   ]
  },
  {
   "cell_type": "code",
   "execution_count": 16,
   "metadata": {},
   "outputs": [
    {
     "data": {
      "text/plain": [
       "[1, 2, 3, 4, 5, 6, 7, 8, 9, 10, 11, 12, 13, 14, 15, 16, 17, 18, 20, 19, 22, 21]"
      ]
     },
     "execution_count": 16,
     "metadata": {},
     "output_type": "execute_result"
    }
   ],
   "source": [
    "#check chr \n",
    "chr_list = merged['CHR'].unique().tolist()\n",
    "chr_list"
   ]
  },
  {
   "cell_type": "code",
   "execution_count": 17,
   "metadata": {},
   "outputs": [
    {
     "data": {
      "text/plain": [
       "<bound method NDFrame.head of                    ID  CHR        P0        P1                        WGT\n",
       "0     ENSG00000188976    1    879584    894689   ENSG00000188976.wgt.RDat\n",
       "1     ENSG00000187961    1    895967    901095   ENSG00000187961.wgt.RDat\n",
       "2     ENSG00000187583    1    901877    911245   ENSG00000187583.wgt.RDat\n",
       "3     ENSG00000188290    1    934342    935552   ENSG00000188290.wgt.RDat\n",
       "4     ENSG00000187608    1    948803    949920   ENSG00000187608.wgt.RDat\n",
       "...               ...  ...       ...       ...                        ...\n",
       "9718  ENSG00000160298   21  47720095  47743789   ENSG00000160298.wgt.RDat\n",
       "9719  ENSG00000160299   21  47744036  47865682   ENSG00000160299.wgt.RDat\n",
       "9720  ENSG00000160305   21  47878812  47989926   ENSG00000160305.wgt.RDat\n",
       "9721  ENSG00000160307   21  48018875  48025121   ENSG00000160307.wgt.RDat\n",
       "9722  ENSG00000160310   21  48055079  48085036   ENSG00000160310.wgt.RDat\n",
       "\n",
       "[9723 rows x 5 columns]>"
      ]
     },
     "execution_count": 17,
     "metadata": {},
     "output_type": "execute_result"
    }
   ],
   "source": [
    "#drop ./weights/ from WGT\n",
    "merged['WGT'] = merged['WGT'].str.replace('./weights/', '')\n",
    "merged.head"
   ]
  },
  {
   "cell_type": "code",
   "execution_count": 18,
   "metadata": {},
   "outputs": [],
   "source": [
    "#rearrange columns and save the file as synapse.pos\n",
    "output = merged[['WGT', 'ID', 'CHR', 'P1', 'P0']]\n",
    "output.to_csv(r'./data_folder/synapse.pos', index=False, sep=\"\\t\")"
   ]
  },
  {
   "cell_type": "code",
   "execution_count": 19,
   "metadata": {},
   "outputs": [],
   "source": [
    "#set paths\n",
    "sumstat_path = f'{datadir}/meta_1.txt'\n",
    "weights_path = f'{datadir}/synapse.pos'\n",
    "weights_dir = f'{basedir}/output/weights/'\n",
    "fusion_ldref_basename = f'{fusiondir}/LDREF/1000G.EUR'\n",
    "fusion_assoc_script = f'{fusiondir}/FUSION.assoc_test.R'\n",
    "\n",
    "!mkdir --parents output/pd\n",
    "\n",
    "sumstat = pd.read_csv(sumstat_path, sep='\\t')\n",
    "\n",
    "##check if weights_dir should be f'{basedir}/output/weights'####"
   ]
  },
  {
   "cell_type": "code",
   "execution_count": 20,
   "metadata": {},
   "outputs": [
    {
     "name": "stderr",
     "output_type": "stream",
     "text": [
      "Executing: Rscript /data/songy4/twas/fusion_twas/FUSION.assoc_test.R --sumstats /data/songy4/twas/data_folder/meta_1.txt --weights /data/songy4/twas/data_folder/synapse.pos --weights_dir /data/songy4/twas/output/weights/ --ref_ld_chr /data/songy4/twas/fusion_twas/LDREF/1000G.EUR. --chr 1 --out output/pd/PD.1.dat\n",
      "Executing: Rscript /data/songy4/twas/fusion_twas/FUSION.assoc_test.R --sumstats /data/songy4/twas/data_folder/meta_1.txt --weights /data/songy4/twas/data_folder/synapse.pos --weights_dir /data/songy4/twas/output/weights/ --ref_ld_chr /data/songy4/twas/fusion_twas/LDREF/1000G.EUR. --chr 2 --out output/pd/PD.2.dat\n",
      "Executing: Rscript /data/songy4/twas/fusion_twas/FUSION.assoc_test.R --sumstats /data/songy4/twas/data_folder/meta_1.txt --weights /data/songy4/twas/data_folder/synapse.pos --weights_dir /data/songy4/twas/output/weights/ --ref_ld_chr /data/songy4/twas/fusion_twas/LDREF/1000G.EUR. --chr 3 --out output/pd/PD.3.dat\n",
      "Executing: Rscript /data/songy4/twas/fusion_twas/FUSION.assoc_test.R --sumstats /data/songy4/twas/data_folder/meta_1.txt --weights /data/songy4/twas/data_folder/synapse.pos --weights_dir /data/songy4/twas/output/weights/ --ref_ld_chr /data/songy4/twas/fusion_twas/LDREF/1000G.EUR. --chr 4 --out output/pd/PD.4.dat\n",
      "Executing: Rscript /data/songy4/twas/fusion_twas/FUSION.assoc_test.R --sumstats /data/songy4/twas/data_folder/meta_1.txt --weights /data/songy4/twas/data_folder/synapse.pos --weights_dir /data/songy4/twas/output/weights/ --ref_ld_chr /data/songy4/twas/fusion_twas/LDREF/1000G.EUR. --chr 5 --out output/pd/PD.5.dat\n",
      "Executing: Rscript /data/songy4/twas/fusion_twas/FUSION.assoc_test.R --sumstats /data/songy4/twas/data_folder/meta_1.txt --weights /data/songy4/twas/data_folder/synapse.pos --weights_dir /data/songy4/twas/output/weights/ --ref_ld_chr /data/songy4/twas/fusion_twas/LDREF/1000G.EUR. --chr 6 --out output/pd/PD.6.dat\n",
      "Executing: Rscript /data/songy4/twas/fusion_twas/FUSION.assoc_test.R --sumstats /data/songy4/twas/data_folder/meta_1.txt --weights /data/songy4/twas/data_folder/synapse.pos --weights_dir /data/songy4/twas/output/weights/ --ref_ld_chr /data/songy4/twas/fusion_twas/LDREF/1000G.EUR. --chr 7 --out output/pd/PD.7.dat\n",
      "Executing: Rscript /data/songy4/twas/fusion_twas/FUSION.assoc_test.R --sumstats /data/songy4/twas/data_folder/meta_1.txt --weights /data/songy4/twas/data_folder/synapse.pos --weights_dir /data/songy4/twas/output/weights/ --ref_ld_chr /data/songy4/twas/fusion_twas/LDREF/1000G.EUR. --chr 8 --out output/pd/PD.8.dat\n",
      "Executing: Rscript /data/songy4/twas/fusion_twas/FUSION.assoc_test.R --sumstats /data/songy4/twas/data_folder/meta_1.txt --weights /data/songy4/twas/data_folder/synapse.pos --weights_dir /data/songy4/twas/output/weights/ --ref_ld_chr /data/songy4/twas/fusion_twas/LDREF/1000G.EUR. --chr 9 --out output/pd/PD.9.dat\n",
      "Executing: Rscript /data/songy4/twas/fusion_twas/FUSION.assoc_test.R --sumstats /data/songy4/twas/data_folder/meta_1.txt --weights /data/songy4/twas/data_folder/synapse.pos --weights_dir /data/songy4/twas/output/weights/ --ref_ld_chr /data/songy4/twas/fusion_twas/LDREF/1000G.EUR. --chr 10 --out output/pd/PD.10.dat\n",
      "Executing: Rscript /data/songy4/twas/fusion_twas/FUSION.assoc_test.R --sumstats /data/songy4/twas/data_folder/meta_1.txt --weights /data/songy4/twas/data_folder/synapse.pos --weights_dir /data/songy4/twas/output/weights/ --ref_ld_chr /data/songy4/twas/fusion_twas/LDREF/1000G.EUR. --chr 11 --out output/pd/PD.11.dat\n",
      "Executing: Rscript /data/songy4/twas/fusion_twas/FUSION.assoc_test.R --sumstats /data/songy4/twas/data_folder/meta_1.txt --weights /data/songy4/twas/data_folder/synapse.pos --weights_dir /data/songy4/twas/output/weights/ --ref_ld_chr /data/songy4/twas/fusion_twas/LDREF/1000G.EUR. --chr 12 --out output/pd/PD.12.dat\n",
      "Executing: Rscript /data/songy4/twas/fusion_twas/FUSION.assoc_test.R --sumstats /data/songy4/twas/data_folder/meta_1.txt --weights /data/songy4/twas/data_folder/synapse.pos --weights_dir /data/songy4/twas/output/weights/ --ref_ld_chr /data/songy4/twas/fusion_twas/LDREF/1000G.EUR. --chr 13 --out output/pd/PD.13.dat\n",
      "Executing: Rscript /data/songy4/twas/fusion_twas/FUSION.assoc_test.R --sumstats /data/songy4/twas/data_folder/meta_1.txt --weights /data/songy4/twas/data_folder/synapse.pos --weights_dir /data/songy4/twas/output/weights/ --ref_ld_chr /data/songy4/twas/fusion_twas/LDREF/1000G.EUR. --chr 14 --out output/pd/PD.14.dat\n",
      "Executing: Rscript /data/songy4/twas/fusion_twas/FUSION.assoc_test.R --sumstats /data/songy4/twas/data_folder/meta_1.txt --weights /data/songy4/twas/data_folder/synapse.pos --weights_dir /data/songy4/twas/output/weights/ --ref_ld_chr /data/songy4/twas/fusion_twas/LDREF/1000G.EUR. --chr 15 --out output/pd/PD.15.dat\n",
      "Executing: Rscript /data/songy4/twas/fusion_twas/FUSION.assoc_test.R --sumstats /data/songy4/twas/data_folder/meta_1.txt --weights /data/songy4/twas/data_folder/synapse.pos --weights_dir /data/songy4/twas/output/weights/ --ref_ld_chr /data/songy4/twas/fusion_twas/LDREF/1000G.EUR. --chr 16 --out output/pd/PD.16.dat\n",
      "Executing: Rscript /data/songy4/twas/fusion_twas/FUSION.assoc_test.R --sumstats /data/songy4/twas/data_folder/meta_1.txt --weights /data/songy4/twas/data_folder/synapse.pos --weights_dir /data/songy4/twas/output/weights/ --ref_ld_chr /data/songy4/twas/fusion_twas/LDREF/1000G.EUR. --chr 17 --out output/pd/PD.17.dat\n",
      "Executing: Rscript /data/songy4/twas/fusion_twas/FUSION.assoc_test.R --sumstats /data/songy4/twas/data_folder/meta_1.txt --weights /data/songy4/twas/data_folder/synapse.pos --weights_dir /data/songy4/twas/output/weights/ --ref_ld_chr /data/songy4/twas/fusion_twas/LDREF/1000G.EUR. --chr 18 --out output/pd/PD.18.dat\n",
      "Executing: Rscript /data/songy4/twas/fusion_twas/FUSION.assoc_test.R --sumstats /data/songy4/twas/data_folder/meta_1.txt --weights /data/songy4/twas/data_folder/synapse.pos --weights_dir /data/songy4/twas/output/weights/ --ref_ld_chr /data/songy4/twas/fusion_twas/LDREF/1000G.EUR. --chr 19 --out output/pd/PD.19.dat\n",
      "Executing: Rscript /data/songy4/twas/fusion_twas/FUSION.assoc_test.R --sumstats /data/songy4/twas/data_folder/meta_1.txt --weights /data/songy4/twas/data_folder/synapse.pos --weights_dir /data/songy4/twas/output/weights/ --ref_ld_chr /data/songy4/twas/fusion_twas/LDREF/1000G.EUR. --chr 20 --out output/pd/PD.20.dat\n",
      "Executing: Rscript /data/songy4/twas/fusion_twas/FUSION.assoc_test.R --sumstats /data/songy4/twas/data_folder/meta_1.txt --weights /data/songy4/twas/data_folder/synapse.pos --weights_dir /data/songy4/twas/output/weights/ --ref_ld_chr /data/songy4/twas/fusion_twas/LDREF/1000G.EUR. --chr 21 --out output/pd/PD.21.dat\n",
      "Executing: Rscript /data/songy4/twas/fusion_twas/FUSION.assoc_test.R --sumstats /data/songy4/twas/data_folder/meta_1.txt --weights /data/songy4/twas/data_folder/synapse.pos --weights_dir /data/songy4/twas/output/weights/ --ref_ld_chr /data/songy4/twas/fusion_twas/LDREF/1000G.EUR. --chr 22 --out output/pd/PD.22.dat\n"
     ]
    }
   ],
   "source": [
    "#fusion calculation -- take about 3 min each chromosome \n",
    "for i in range(1, 23):\n",
    "    PD_OUT = f'output/pd/PD.{i}.dat'\n",
    "    fusion_cmd_i = f'\\\n",
    "    Rscript {fusion_assoc_script} \\\n",
    "    --sumstats {sumstat_path} \\\n",
    "    --weights {weights_path} \\\n",
    "    --weights_dir {weights_dir} \\\n",
    "    --ref_ld_chr {fusion_ldref_basename}. \\\n",
    "    --chr {i} \\\n",
    "    --out {PD_OUT}'\n",
    "    shell_do(fusion_cmd_i)"
   ]
  },
  {
   "cell_type": "markdown",
   "metadata": {},
   "source": [
    "# running list of questions\n",
    "1. what about non-autosome transcripts? i.e. MT\n",
    "2. how many snps in common between ref and geno?\n",
    "3. how many snps per transcript should we expect (0-500?)\n"
   ]
  },
  {
   "cell_type": "code",
   "execution_count": 44,
   "metadata": {},
   "outputs": [
    {
     "data": {
      "text/plain": [
       "'gemma -miss 1 -maf 0 -r2 1 -rpace 1000 -wpace 1000 -bfile tmp/ENSG00000188976.tmp.cv -bslmm 2 -o ENSG00000188976'"
      ]
     },
     "execution_count": 44,
     "metadata": {},
     "output_type": "execute_result"
    }
   ],
   "source": [
    "p_in = 'tmp/ENSG00000188976.tmp.cv'\n",
    "f\"gemma -miss 1 -maf 0 -r2 1 -rpace 1000 -wpace 1000 -bfile {p_in} -bslmm 2 -o ENSG00000188976\""
   ]
  }
 ],
 "metadata": {
  "kernelspec": {
   "display_name": "Python 3",
   "language": "python",
   "name": "python3"
  },
  "language_info": {
   "codemirror_mode": {
    "name": "ipython",
    "version": 3
   },
   "file_extension": ".py",
   "mimetype": "text/x-python",
   "name": "python",
   "nbconvert_exporter": "python",
   "pygments_lexer": "ipython3",
   "version": "3.6.7"
  }
 },
 "nbformat": 4,
 "nbformat_minor": 4
}
