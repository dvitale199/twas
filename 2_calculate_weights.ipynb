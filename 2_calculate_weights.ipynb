{
 "cells": [
  {
   "cell_type": "code",
   "execution_count": 1,
   "metadata": {},
   "outputs": [],
   "source": [
    "import subprocess\n",
    "import sys\n",
    "import os\n",
    "import shutil\n",
    "import pandas as pd"
   ]
  },
  {
   "cell_type": "code",
   "execution_count": 2,
   "metadata": {},
   "outputs": [],
   "source": [
    "def shell_do(command, log=False, return_log=False):\n",
    "    print(f'Executing: {(\" \").join(command.split())}', file=sys.stderr)\n",
    "\n",
    "    res=subprocess.run(command.split(), stdout=subprocess.PIPE)\n",
    "\n",
    "    if log:\n",
    "        print(res.stdout.decode('utf-8'))\n",
    "    if return_log:\n",
    "        return(res.stdout.decode('utf-8'))"
   ]
  },
  {
   "cell_type": "code",
   "execution_count": null,
   "metadata": {},
   "outputs": [],
   "source": [
    "!git clone https://github.com/gusevlab/fusion_twas.git"
   ]
  },
  {
   "cell_type": "code",
   "execution_count": 3,
   "metadata": {},
   "outputs": [],
   "source": [
    "# set paths\n",
    "basedir = '/data/songy4/TWAS'\n",
    "datadir = f'{basedir}/data_folder'\n",
    "fusiondir = f'fusion_twas'\n",
    "geno_path = f'{datadir}/id_comparison/qc_genotypes_twas'\n",
    "gene_list_path = f'{datadir}/final_folder/gene_list.txt'\n",
    "pheno_path = f'{datadir}/final_folder/expression_matrix_final.txt'\n",
    "coord_path = f'{datadir}/final_folder/twas_coordinate.txt'\n",
    "gcta = f'{fusiondir}/gcta_nr_robust'\n",
    "# gcta = 'gcta'\n",
    "gemma = f'gemma-0.98.3-linux-static'\n",
    "fusion_ldref_basename = f'{fusiondir}/LDREF/1000G.EUR'\n",
    "fusion_compute_weights_script = f'{fusiondir}/FUSION.compute_weights.R'\n",
    "# out_dir = f'{basedir}/output\n",
    "\n",
    "\n",
    "!mkdir --parents output/weights\n",
    "!mkdir --parents output/tmp\n"
   ]
  },
  {
   "cell_type": "markdown",
   "metadata": {},
   "source": [
    "# Pipeline for TWAS run"
   ]
  },
  {
   "cell_type": "code",
   "execution_count": 4,
   "metadata": {},
   "outputs": [],
   "source": [
    "# get gene list\n",
    "gene_list_df = pd.read_csv(gene_list_path, sep='\\t')\n",
    "gene_list = list(gene_list_df.ID)\n",
    "# gene_list = ['ENSG00000186092', 'ENSG00000187634', 'ENSG00000188976'] # for testing\n",
    "# gene_list = ['ENSG00000188976']\n",
    "pheno = pd.read_csv(pheno_path, sep='\\t')\n",
    "coords = pd.read_csv(coord_path, sep='\\t')"
   ]
  },
  {
   "cell_type": "code",
   "execution_count": 5,
   "metadata": {},
   "outputs": [],
   "source": [
    "# now put together pipeline\n",
    "\n",
    "compweights_swarmfile = f'{basedir}/compute_weights.swarm'\n",
    "\n",
    "with open(compweights_swarmfile, 'w') as f:\n",
    "    \n",
    "    for gene in gene_list:\n",
    "        OUT = f'output/tmp/{gene}'\n",
    "        FINAL_OUT = f'output/weights/{gene}'\n",
    "        #get chr start stop\n",
    "        _chr = coords.loc[coords.ID == gene, 'X.Chr'].item()\n",
    "        _start = coords.loc[coords.ID == gene, 'start'].item()-0.5e6\n",
    "        _stop = coords.loc[coords.ID == gene, 'end'].item()+0.5e6\n",
    "\n",
    "        if _start < 0:\n",
    "            _start = 0\n",
    "        \n",
    "        _start = int(_start)\n",
    "        _stop = int(_stop)\n",
    "        \n",
    "#         _temp_name = f'{gene}_temp'\n",
    "#         _gene_temp = f'{tempdir}/{_temp_name}'\n",
    "        \n",
    "        # pheno per gene\n",
    "#         _phenoname = f'{_gene_temp}.pheno'\n",
    "        \n",
    "        # write pheno file per gene\n",
    "        pheno[['FID','IID', gene]].to_csv(f'{OUT}.pheno', sep='\\t', header=False, index=False)\n",
    "#         pheno[['FID','IID', gene]].to_csv(_phenoname, sep='\\t', header=False, index=False)\n",
    "        \n",
    "        plink_cmd = f'\\\n",
    "plink --bfile {geno_path}_hg19_lifted \\\n",
    "--pheno {OUT}.pheno \\\n",
    "--keep {OUT}.pheno \\\n",
    "--chr {_chr} \\\n",
    "--from-bp {_start} \\\n",
    "--to-bp {_stop} \\\n",
    "--extract {fusion_ldref_basename}.{_chr}.bim \\\n",
    "--make-bed \\\n",
    "--out {OUT}'  \n",
    "\n",
    "#         shell_do(plink_cmd, log=True, return_log=True)\n",
    "\n",
    "        fusion_cmd = f'\\\n",
    "Rscript {fusion_compute_weights_script} \\\n",
    "--bfile {OUT} \\\n",
    "--tmp {OUT}.tmp \\\n",
    "--out {FINAL_OUT} \\\n",
    "--PATH_gemma {gemma} \\\n",
    "--PATH_plink plink \\\n",
    "--PATH_gcta {gcta} \\\n",
    "--verbose 2 \\\n",
    "--save_hsq \\\n",
    "--models top1,lasso,enet'\n",
    "#         shell_do(fusion_cmd, log=True, return_log=True)\n",
    "\n",
    "        f.write(f'{plink_cmd} && {fusion_cmd}\\n')\n",
    "    f.close()"
   ]
  },
  {
   "cell_type": "code",
   "execution_count": 7,
   "metadata": {},
   "outputs": [
    {
     "name": "stdout",
     "output_type": "stream",
     "text": [
      "swarm -f /data/songy4/TWAS/compute_weights.swarm -g 16 -t 16 --time=10:00:00 --logdir swarm --gres=lscratch:20 --module plink,GEMMA/0.96 --partition=norm\n",
      "5529448\n"
     ]
    }
   ],
   "source": [
    "# run swarm\n",
    "swarm_cmd = f'swarm -f {compweights_swarmfile} -g 16 -t 16 --time=10:00:00 --logdir swarm --gres=lscratch:20 --module plink,GEMMA/0.96 --partition=norm'\n",
    "# shell_do(swarm_cmd)\n",
    "print(swarm_cmd)\n",
    "!{swarm_cmd}"
   ]
  },
  {
   "cell_type": "markdown",
   "metadata": {},
   "source": [
    "# running list of questions\n",
    "1. what about non-autosome transcripts? i.e. MT\n",
    "2. how many snps in common between ref and geno?\n",
    "3. how many snps per transcript should we expect (0-500?)\n"
   ]
  },
  {
   "cell_type": "code",
   "execution_count": 44,
   "metadata": {},
   "outputs": [
    {
     "data": {
      "text/plain": [
       "'gemma -miss 1 -maf 0 -r2 1 -rpace 1000 -wpace 1000 -bfile tmp/ENSG00000188976.tmp.cv -bslmm 2 -o ENSG00000188976'"
      ]
     },
     "execution_count": 44,
     "metadata": {},
     "output_type": "execute_result"
    }
   ],
   "source": [
    "p_in = 'tmp/ENSG00000188976.tmp.cv'\n",
    "f\"gemma -miss 1 -maf 0 -r2 1 -rpace 1000 -wpace 1000 -bfile {p_in} -bslmm 2 -o ENSG00000188976\""
   ]
  }
 ],
 "metadata": {
  "kernelspec": {
   "display_name": "Python 3",
   "language": "python",
   "name": "python3"
  },
  "language_info": {
   "codemirror_mode": {
    "name": "ipython",
    "version": 3
   },
   "file_extension": ".py",
   "mimetype": "text/x-python",
   "name": "python",
   "nbconvert_exporter": "python",
   "pygments_lexer": "ipython3",
   "version": "3.6.7"
  }
 },
 "nbformat": 4,
 "nbformat_minor": 4
}
